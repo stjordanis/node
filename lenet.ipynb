{
 "cells": [
  {
   "cell_type": "code",
   "execution_count": 1,
   "metadata": {},
   "outputs": [
    {
     "name": "stdout",
     "output_type": "stream",
     "text": [
      "Works on GPU\n"
     ]
    }
   ],
   "source": [
    "import node\n",
    "import numpy as np\n",
    "import cupy as cp"
   ]
  },
  {
   "cell_type": "code",
   "execution_count": 2,
   "metadata": {
    "collapsed": true
   },
   "outputs": [],
   "source": [
    "def initialize(layers):\n",
    "    for layer in layers:\n",
    "        if repr(layer) == \"Convolution2D\":\n",
    "            W = layer.parameters[\"W\"]\n",
    "            W.value = cp.random.normal(0.0, 0.02, size=W.value.shape, dtype=np.float32)"
   ]
  },
  {
   "cell_type": "code",
   "execution_count": 3,
   "metadata": {},
   "outputs": [
    {
     "name": "stdout",
     "output_type": "stream",
     "text": [
      "Has 78810 parameters\n"
     ]
    }
   ],
   "source": [
    "class LeNet(node.Network):\n",
    "    \n",
    "    def __init__(self, num_in_ch):\n",
    "        self.layers = [\n",
    "            # Block 1\n",
    "            node.Convolution2D(num_in_ch, 16, 7, 1, 0),\n",
    "            node.MaxPooling2D(2, 2),\n",
    "            \n",
    "            # Block 2\n",
    "            node.Convolution2D(16, 30, 3, 1, 0),\n",
    "            node.MaxPooling2D(2, 2),\n",
    "            \n",
    "            # FC\n",
    "            node.Linear(480, 150),\n",
    "            node.Linear(150, 10)\n",
    "        ]\n",
    "        \n",
    "    def __call__(self, input):\n",
    "        hidden = input\n",
    "        \n",
    "        # Block 1 \n",
    "        # Output: 16 x 11 x 11\n",
    "        hidden = self.layers[0](hidden)\n",
    "        hidden = hidden.relu()\n",
    "        hidden = self.layers[1](hidden)\n",
    "        \n",
    "        # Block 2\n",
    "        # Output: 30 x 4 x 4\n",
    "        hidden = self.layers[2](hidden)\n",
    "        hidden = self.layers[3](hidden)\n",
    "        hidden = hidden.tanh()\n",
    "        \n",
    "        # FC \n",
    "        hidden = hidden.reshape(input.value.shape[0], -1)\n",
    "        hidden = self.layers[4](hidden)\n",
    "        hidden = hidden.relu()\n",
    "        hidden = self.layers[5](hidden)\n",
    "        \n",
    "        return hidden\n",
    "    \n",
    "classifier = LeNet(1)\n",
    "optimizer = node.Adam(classifier.get_parameters(), eta=0.0002)\n",
    "initialize(classifier.layers)"
   ]
  },
  {
   "cell_type": "code",
   "execution_count": 4,
   "metadata": {
    "collapsed": true
   },
   "outputs": [],
   "source": [
    "datasets = [node.MNIST(train=True), \n",
    "            node.MNIST(train=False)]"
   ]
  },
  {
   "cell_type": "code",
   "execution_count": 5,
   "metadata": {
    "collapsed": true
   },
   "outputs": [],
   "source": [
    "dataloaders = [node.DataLoader(datasets[0], 100),\n",
    "               node.DataLoader(datasets[1], 100)]"
   ]
  },
  {
   "cell_type": "code",
   "execution_count": 6,
   "metadata": {
    "collapsed": true
   },
   "outputs": [],
   "source": [
    "def train(input, target):\n",
    "    prediction = classifier(input / 255)\n",
    "    output = prediction.softmax_with_binary_cross_entropy(target)\n",
    "    \n",
    "    optimizer.clear()\n",
    "    output.backward()\n",
    "    optimizer.update()\n",
    "    \n",
    "    return output.numpy()"
   ]
  },
  {
   "cell_type": "code",
   "execution_count": 7,
   "metadata": {
    "collapsed": true
   },
   "outputs": [],
   "source": [
    "def evaluate(input, target):\n",
    "    \n",
    "    def measure(prediction, target):\n",
    "        prediction = np.argmax(prediction, axis=1)\n",
    "        target = np.argmax(target, axis=1)\n",
    "        return np.sum(np.where(prediction == target, 1, 0))\n",
    "    \n",
    "    with node.zero_grad():\n",
    "        prediction = classifier(input / 255)\n",
    "        output = prediction.softmax_with_binary_cross_entropy(target)\n",
    "        \n",
    "    acc = measure(prediction.numpy(), target.numpy())\n",
    "        \n",
    "    return output.numpy(), acc"
   ]
  },
  {
   "cell_type": "code",
   "execution_count": 8,
   "metadata": {},
   "outputs": [
    {
     "name": "stdout",
     "output_type": "stream",
     "text": [
      "epoch  0, train 0.8436, test 0.2811, acc 0.9511\n",
      "epoch  5, train 0.1139, test 0.1165, acc 0.9782\n",
      "epoch 10, train 0.0708, test 0.1066, acc 0.9820\n"
     ]
    }
   ],
   "source": [
    "for epoch in range(11):\n",
    "    # Train Loss, Test Loss, Accuracy\n",
    "    metrics = [0, 0, 0]\n",
    "\n",
    "    for input, target in dataloaders[0]:\n",
    "        metrics[0] += train(input, target)\n",
    "        \n",
    "    for input, target in dataloaders[1]:\n",
    "        loss, acc = evaluate(input, target)\n",
    "        metrics[1] += loss\n",
    "        metrics[2] += acc\n",
    "        \n",
    "        \n",
    "    metrics[0] /= len(dataloaders[0])\n",
    "    metrics[1] /= len(dataloaders[1])\n",
    "    metrics[2] /= 100 * len(dataloaders[1])\n",
    "    if epoch % 5 == 0:\n",
    "        print(\"epoch {0:2}, train {1:.4f}, test {2:.4f}, acc {3:.4f}\".format(epoch, *metrics))"
   ]
  }
 ],
 "metadata": {
  "kernelspec": {
   "display_name": "Python 3",
   "language": "python",
   "name": "python3"
  },
  "language_info": {
   "codemirror_mode": {
    "name": "ipython",
    "version": 3
   },
   "file_extension": ".py",
   "mimetype": "text/x-python",
   "name": "python",
   "nbconvert_exporter": "python",
   "pygments_lexer": "ipython3",
   "version": "3.6.3"
  }
 },
 "nbformat": 4,
 "nbformat_minor": 2
}
