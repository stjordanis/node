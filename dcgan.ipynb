{
 "cells": [
  {
   "cell_type": "code",
   "execution_count": 1,
   "metadata": {},
   "outputs": [
    {
     "name": "stdout",
     "output_type": "stream",
     "text": [
      "GPU\n"
     ]
    }
   ],
   "source": [
    "import node "
   ]
  },
  {
   "cell_type": "code",
   "execution_count": 2,
   "metadata": {
    "collapsed": true
   },
   "outputs": [],
   "source": [
    "import cupy as np "
   ]
  },
  {
   "cell_type": "code",
   "execution_count": 3,
   "metadata": {
    "collapsed": true
   },
   "outputs": [],
   "source": [
    "# Image shape\n",
    "rows = 32\n",
    "cols = 32"
   ]
  },
  {
   "cell_type": "code",
   "execution_count": 4,
   "metadata": {
    "collapsed": true
   },
   "outputs": [],
   "source": [
    "base = 64\n",
    "num_in_ch = 32\n",
    "num_out_ch = 1"
   ]
  },
  {
   "cell_type": "code",
   "execution_count": 5,
   "metadata": {
    "collapsed": true
   },
   "outputs": [],
   "source": [
    "epoch = 301"
   ]
  },
  {
   "cell_type": "code",
   "execution_count": 6,
   "metadata": {
    "collapsed": true
   },
   "outputs": [],
   "source": [
    "def initialize(layers):\n",
    "    \"\"\"\n",
    "    ジェネレーターとディスクリミネーターの重みを\n",
    "    \n",
    "    畳み込み層: 平均0.0、分散0.02\n",
    "    バッチ正則化層: 平均1.0、分散0.02\n",
    "    \n",
    "    に初期化する\n",
    "    \"\"\"\n",
    "    for layer in layers:\n",
    "        if repr(layer) == \"Conv2D\" or repr(layer) == \"ConvTranspose2D\":\n",
    "            W = layer.parameters[\"W\"]\n",
    "            W.value = np.random.normal(0.0, 0.02, size=W.value.shape, dtype=np.float32)\n",
    "        elif repr(layer) == \"BatchNormalization\":\n",
    "            W = layer.parameters[\"W\"]\n",
    "            W.value = np.random.normal(1.0, 0.02, size=W.value.shape, dtype=np.float32)"
   ]
  },
  {
   "cell_type": "code",
   "execution_count": 7,
   "metadata": {
    "collapsed": true
   },
   "outputs": [],
   "source": [
    "class Generator(node.Network):\n",
    "    \n",
    "    def __init__(self, base=64, num_in_ch=100, num_out_ch=3):\n",
    "        \"\"\"\n",
    "        引数\n",
    "            base: チャンネル数の基数\n",
    "            num_in_ch: ノイズ(入力)のチャンネル数\n",
    "            num_out_ch: 出力のチャンネル数\n",
    "        \"\"\"\n",
    "        \n",
    "        super(Generator, self).__init__()\n",
    "        \n",
    "        self.layers = [\n",
    "            # Block 1\n",
    "            node.ConvTranspose2D(num_in_ch, base * 4, 4, 1, 0),\n",
    "            node.BatchNormalization(base * 4),\n",
    "            \n",
    "            # Block 2\n",
    "            node.ConvTranspose2D(base * 4, base * 2, 4, 2, 1),\n",
    "            node.BatchNormalization(base * 2),\n",
    "            \n",
    "            # Block 3\n",
    "            node.ConvTranspose2D(base * 2, base, 4, 2, 1),\n",
    "            node.BatchNormalization(base),\n",
    "            \n",
    "            # Block 4\n",
    "            node.ConvTranspose2D(base, num_out_ch, 4, 2, 1)\n",
    "        ]\n",
    "        \n",
    "    def __call__(self, input):\n",
    "        hidden = input\n",
    "        \n",
    "        # Block 1\n",
    "        # Output Shape: base * 4 x 4 x 4\n",
    "        hidden = self.layers[0](hidden)\n",
    "        hidden = self.layers[1](hidden)\n",
    "        hidden = hidden.relu()\n",
    "        \n",
    "        # Block 2\n",
    "        # Output Shape: base * 2 x 8 x 8\n",
    "        hidden = self.layers[2](hidden)\n",
    "        hidden = self.layers[3](hidden)\n",
    "        hidden = hidden.relu()\n",
    "        \n",
    "        # Block 3\n",
    "        # Output Shape: base x 16 x 16\n",
    "        hidden = self.layers[4](hidden)\n",
    "        hidden = self.layers[5](hidden)\n",
    "        hidden = hidden.relu()\n",
    "        \n",
    "        # Block 4\n",
    "        # Output Shape: output x 32 x 32\n",
    "        hidden = self.layers[6](hidden)\n",
    "        hidden = hidden.tanh()\n",
    "        \n",
    "        return hidden\n",
    "    \n",
    "generator = Generator(base, num_in_ch, num_out_ch)\n",
    "generator = generator\n",
    "initialize(generator.layers)"
   ]
  },
  {
   "cell_type": "code",
   "execution_count": 8,
   "metadata": {
    "collapsed": true
   },
   "outputs": [],
   "source": [
    "class Discriminator(node.Network):\n",
    "    \n",
    "    def __init__(self, base=64, num_in_ch=3):\n",
    "        \"\"\"\n",
    "        引数\n",
    "            base: チャンネル数の基数\n",
    "            num_in_ch: ノイズ(入力)のチャンネル数\n",
    "        \"\"\"\n",
    "        \n",
    "        super(Discriminator, self).__init__()\n",
    "        \n",
    "        self.layers = [\n",
    "            # Block 1\n",
    "            node.Conv2D(num_in_ch, base, 4, 2, 1, use_bias=False),\n",
    "            \n",
    "            # Block 2\n",
    "            node.Conv2D(base, base * 2, 4, 2, 1, use_bias=False),\n",
    "            node.BatchNormalization(base * 2),\n",
    "            \n",
    "            # Block 3\n",
    "            node.Conv2D(base * 2, base * 4, 4, 2, 1, use_bias=False),\n",
    "            node.BatchNormalization(base * 4),\n",
    "            \n",
    "            # Block 4\n",
    "            node.Conv2D(base * 4, 1, 4, 1, 0, use_bias=False)\n",
    "        ]\n",
    "        \n",
    "    def __call__(self, input):\n",
    "        hidden = input\n",
    "        \n",
    "        # Block 1 \n",
    "        # Output Shape: base x 16 x 16\n",
    "        hidden = self.layers[0](hidden)\n",
    "        hidden = hidden.leaky_relu(0.2)\n",
    "        \n",
    "        # Block 2\n",
    "        # Output Shape: base * 2 x 8 x 8\n",
    "        hidden = self.layers[1](hidden)\n",
    "        hidden = self.layers[2](hidden)\n",
    "        hidden = hidden.leaky_relu(0.2)\n",
    "        \n",
    "        # Block 3\n",
    "        # Output Shape: base * 4 x 4 x 4\n",
    "        hidden = self.layers[3](hidden)\n",
    "        hidden = self.layers[4](hidden)\n",
    "        hidden = hidden.leaky_relu(0.2)\n",
    "        \n",
    "        # Block 4 \n",
    "        # Output Shape: 1 x 1 x 1\n",
    "        hidden = self.layers[5](hidden)\n",
    "        hidden = hidden.sigmoid()\n",
    "        \n",
    "        return hidden.reshape(input.value.shape[0], -1)\n",
    "        \n",
    "discriminator = Discriminator(base, num_out_ch)\n",
    "discriminator = discriminator\n",
    "initialize(discriminator.layers)"
   ]
  },
  {
   "cell_type": "code",
   "execution_count": 9,
   "metadata": {
    "collapsed": true
   },
   "outputs": [],
   "source": [
    "# optimizers[0]: for generator\n",
    "# optimizers[1]: for discriminator\n",
    "optimizers = [\n",
    "    node.Adam(generator.get_parameters(), 0.0002, beta_1=0.5),\n",
    "    node.Adam(discriminator.get_parameters(), 0.0002, beta_1=0.5)\n",
    "]"
   ]
  },
  {
   "cell_type": "code",
   "execution_count": 10,
   "metadata": {
    "collapsed": true
   },
   "outputs": [],
   "source": [
    "# targets[0]: valid\n",
    "# targets[1]: invalid\n",
    "targets = [\n",
    "    node.Node(np.ones(shape=[100, 1], dtype=np.float32), no_grad=True),\n",
    "    node.Node(np.zeros(shape=[100, 1], dtype=np.float32), no_grad=True)\n",
    "]"
   ]
  },
  {
   "cell_type": "code",
   "execution_count": 11,
   "metadata": {
    "collapsed": true
   },
   "outputs": [],
   "source": [
    "def train(true):\n",
    "    \"\"\"\n",
    "    Update generator and discriminator parameters\n",
    "    \n",
    "    Arguments\n",
    "        true: true images from dataset\n",
    "    \"\"\"\n",
    "    # Get input info\n",
    "    B, _, _, _ = true.value.shape\n",
    "    \n",
    "    # losses[0]: for generator\n",
    "    # losses[1]: for discriminator (true images)\n",
    "    # losses[2]: for discriminator (fake images)\n",
    "    losses = [None, None, None]\n",
    "    \n",
    "    # Clean gradients\n",
    "    optimizers[0].zero_grad()\n",
    "    optimizers[1].zero_grad()\n",
    "    \n",
    "    # Update generator parameters\n",
    "    noise = node.Node(np.random.uniform(0.0, 1.0, size=[B, num_in_ch, 1, 1], dtype=np.float32))\n",
    "    fake = generator(noise)\n",
    "    losses[0] = discriminator(fake).binary_cross_entropy(targets[0])\n",
    "    losses[0].backward()\n",
    "    optimizers[0]()\n",
    "    \n",
    "    # Compute gradients w.r.t discriminator parameters with true images\n",
    "    optimizers[0].zero_grad()\n",
    "    optimizers[1].zero_grad()\n",
    "    losses[1] = discriminator(true).binary_cross_entropy(targets[0])\n",
    "    losses[1].backward()\n",
    "    optimizers[1]()\n",
    "    \n",
    "    # Compute gradients w.r.t discriminator parameters with fake images\n",
    "    optimizers[0].zero_grad()\n",
    "    optimizers[1].zero_grad()\n",
    "    losses[2] = discriminator(fake).binary_cross_entropy(targets[1])\n",
    "    losses[2].backward()\n",
    "    optimizers[1]()\n",
    "    \n",
    "    # Return generator and discriminator losses\n",
    "    return (fake, losses[0].value, losses[1].value + losses[2].value)"
   ]
  },
  {
   "cell_type": "code",
   "execution_count": 12,
   "metadata": {
    "collapsed": true
   },
   "outputs": [],
   "source": [
    "# Load MNISt dataset\n",
    "dataset = node.MNIST(training=True)\n",
    "dataloader = node.DataLoader(dataset, 100)"
   ]
  },
  {
   "cell_type": "code",
   "execution_count": 13,
   "metadata": {
    "collapsed": true
   },
   "outputs": [],
   "source": [
    "import matplotlib.pyplot as plt\n",
    "%matplotlib inline\n",
    "\n",
    "def visualize(fake, rows=1, cols=5):\n",
    "    \"\"\"\n",
    "    Visualize fake images of generator\n",
    "    \n",
    "    Arguments\n",
    "        fake: fake images of generator\n",
    "        rows: indicates how many images are plotted along rows\n",
    "        cols: indicates how many images are plotted along columns\n",
    "    \"\"\"\n",
    "    _, axes = plt.subplots(rows, cols)\n",
    "    \n",
    "    # Get fake image info\n",
    "    _, _, H, W = fake.shape\n",
    "    \n",
    "    # Plot fake images one by one along columns\n",
    "    for i in range(cols):\n",
    "        axes[i].imshow(fake[i].reshape(H, W), cmap=\"gray\")\n",
    "        axes[i].set_xticks([])\n",
    "        axes[i].set_yticks([])\n",
    "            \n",
    "    plt.show()"
   ]
  },
  {
   "cell_type": "code",
   "execution_count": 14,
   "metadata": {},
   "outputs": [
    {
     "data": {
      "image/png": "[encoded data removed]",
      "text/plain": [
       "<matplotlib.figure.Figure at 0x7f0bfabdca90>"
      ]
     },
     "metadata": {},
     "output_type": "display_data"
    },
    {
     "name": "stdout",
     "output_type": "stream",
     "text": [
      "(epoch   0) gen: 4.7881, disc: 0.2445\n"
     ]
    },
    {
     "data": {
      "image/png": "[encoded data removed]",
      "text/plain": [
       "<matplotlib.figure.Figure at 0x7f0bd80df1d0>"
      ]
     },
     "metadata": {},
     "output_type": "display_data"
    },
    {
     "name": "stdout",
     "output_type": "stream",
     "text": [
      "(epoch  30) gen: 5.0418, disc: 0.0886\n"
     ]
    },
    {
     "ename": "KeyboardInterrupt",
     "evalue": "",
     "output_type": "error",
     "traceback": [
      "\u001b[0;31m---------------------------------------------------------------------------\u001b[0m",
      "\u001b[0;31mKeyboardInterrupt\u001b[0m                         Traceback (most recent call last)",
      "\u001b[0;32m<ipython-input-14-7357e2afb41e>\u001b[0m in \u001b[0;36m<module>\u001b[0;34m()\u001b[0m\n\u001b[1;32m      9\u001b[0m         \u001b[0mB\u001b[0m\u001b[0;34m,\u001b[0m \u001b[0m_\u001b[0m\u001b[0;34m,\u001b[0m \u001b[0m_\u001b[0m\u001b[0;34m,\u001b[0m \u001b[0m_\u001b[0m \u001b[0;34m=\u001b[0m \u001b[0mtrue\u001b[0m\u001b[0;34m.\u001b[0m\u001b[0mvalue\u001b[0m\u001b[0;34m.\u001b[0m\u001b[0mshape\u001b[0m\u001b[0;34m\u001b[0m\u001b[0m\n\u001b[1;32m     10\u001b[0m         \u001b[0mtrue\u001b[0m\u001b[0;34m.\u001b[0m\u001b[0mvalue\u001b[0m \u001b[0;34m=\u001b[0m \u001b[0mnp\u001b[0m\u001b[0;34m.\u001b[0m\u001b[0mpad\u001b[0m\u001b[0;34m(\u001b[0m\u001b[0mtrue\u001b[0m\u001b[0;34m.\u001b[0m\u001b[0mvalue\u001b[0m\u001b[0;34m,\u001b[0m \u001b[0;34m[\u001b[0m\u001b[0;34m(\u001b[0m\u001b[0;36m0\u001b[0m\u001b[0;34m,\u001b[0m \u001b[0;36m0\u001b[0m\u001b[0;34m)\u001b[0m\u001b[0;34m,\u001b[0m \u001b[0;34m(\u001b[0m\u001b[0;36m0\u001b[0m\u001b[0;34m,\u001b[0m \u001b[0;36m0\u001b[0m\u001b[0;34m)\u001b[0m\u001b[0;34m,\u001b[0m \u001b[0;34m(\u001b[0m\u001b[0;36m2\u001b[0m\u001b[0;34m,\u001b[0m \u001b[0;36m2\u001b[0m\u001b[0;34m)\u001b[0m\u001b[0;34m,\u001b[0m \u001b[0;34m(\u001b[0m\u001b[0;36m2\u001b[0m\u001b[0;34m,\u001b[0m \u001b[0;36m2\u001b[0m\u001b[0;34m)\u001b[0m\u001b[0;34m]\u001b[0m\u001b[0;34m,\u001b[0m \u001b[0;34m\"constant\"\u001b[0m\u001b[0;34m)\u001b[0m\u001b[0;34m\u001b[0m\u001b[0m\n\u001b[0;32m---> 11\u001b[0;31m         \u001b[0mfake\u001b[0m\u001b[0;34m,\u001b[0m \u001b[0mgen\u001b[0m\u001b[0;34m,\u001b[0m \u001b[0mdisc\u001b[0m \u001b[0;34m=\u001b[0m \u001b[0mtrain\u001b[0m\u001b[0;34m(\u001b[0m\u001b[0;34m(\u001b[0m\u001b[0mtrue\u001b[0m \u001b[0;34m-\u001b[0m \u001b[0;36m127.5\u001b[0m\u001b[0;34m)\u001b[0m \u001b[0;34m/\u001b[0m \u001b[0;36m127.5\u001b[0m\u001b[0;34m)\u001b[0m\u001b[0;34m\u001b[0m\u001b[0m\n\u001b[0m\u001b[1;32m     12\u001b[0m         \u001b[0mmetrics\u001b[0m\u001b[0;34m[\u001b[0m\u001b[0;36m0\u001b[0m\u001b[0;34m]\u001b[0m \u001b[0;34m+=\u001b[0m \u001b[0mnp\u001b[0m\u001b[0;34m.\u001b[0m\u001b[0masnumpy\u001b[0m\u001b[0;34m(\u001b[0m\u001b[0mgen\u001b[0m\u001b[0;34m)\u001b[0m \u001b[0;34m/\u001b[0m \u001b[0mlen\u001b[0m\u001b[0;34m(\u001b[0m\u001b[0mdataloader\u001b[0m\u001b[0;34m)\u001b[0m\u001b[0;34m\u001b[0m\u001b[0m\n\u001b[1;32m     13\u001b[0m         \u001b[0mmetrics\u001b[0m\u001b[0;34m[\u001b[0m\u001b[0;36m1\u001b[0m\u001b[0;34m]\u001b[0m \u001b[0;34m+=\u001b[0m \u001b[0mnp\u001b[0m\u001b[0;34m.\u001b[0m\u001b[0masnumpy\u001b[0m\u001b[0;34m(\u001b[0m\u001b[0mdisc\u001b[0m\u001b[0;34m)\u001b[0m \u001b[0;34m/\u001b[0m \u001b[0mlen\u001b[0m\u001b[0;34m(\u001b[0m\u001b[0mdataloader\u001b[0m\u001b[0;34m)\u001b[0m\u001b[0;34m\u001b[0m\u001b[0m\n",
      "\u001b[0;32m<ipython-input-11-7fffc4e4eda5>\u001b[0m in \u001b[0;36mtrain\u001b[0;34m(true)\u001b[0m\n\u001b[1;32m     35\u001b[0m     \u001b[0moptimizers\u001b[0m\u001b[0;34m[\u001b[0m\u001b[0;36m0\u001b[0m\u001b[0;34m]\u001b[0m\u001b[0;34m.\u001b[0m\u001b[0mzero_grad\u001b[0m\u001b[0;34m(\u001b[0m\u001b[0;34m)\u001b[0m\u001b[0;34m\u001b[0m\u001b[0m\n\u001b[1;32m     36\u001b[0m     \u001b[0moptimizers\u001b[0m\u001b[0;34m[\u001b[0m\u001b[0;36m1\u001b[0m\u001b[0;34m]\u001b[0m\u001b[0;34m.\u001b[0m\u001b[0mzero_grad\u001b[0m\u001b[0;34m(\u001b[0m\u001b[0;34m)\u001b[0m\u001b[0;34m\u001b[0m\u001b[0m\n\u001b[0;32m---> 37\u001b[0;31m     \u001b[0mlosses\u001b[0m\u001b[0;34m[\u001b[0m\u001b[0;36m2\u001b[0m\u001b[0;34m]\u001b[0m \u001b[0;34m=\u001b[0m \u001b[0mdiscriminator\u001b[0m\u001b[0;34m(\u001b[0m\u001b[0mfake\u001b[0m\u001b[0;34m)\u001b[0m\u001b[0;34m.\u001b[0m\u001b[0mbinary_cross_entropy\u001b[0m\u001b[0;34m(\u001b[0m\u001b[0mtargets\u001b[0m\u001b[0;34m[\u001b[0m\u001b[0;36m1\u001b[0m\u001b[0;34m]\u001b[0m\u001b[0;34m)\u001b[0m\u001b[0;34m\u001b[0m\u001b[0m\n\u001b[0m\u001b[1;32m     38\u001b[0m     \u001b[0mlosses\u001b[0m\u001b[0;34m[\u001b[0m\u001b[0;36m2\u001b[0m\u001b[0;34m]\u001b[0m\u001b[0;34m.\u001b[0m\u001b[0mbackward\u001b[0m\u001b[0;34m(\u001b[0m\u001b[0;34m)\u001b[0m\u001b[0;34m\u001b[0m\u001b[0m\n\u001b[1;32m     39\u001b[0m     \u001b[0moptimizers\u001b[0m\u001b[0;34m[\u001b[0m\u001b[0;36m1\u001b[0m\u001b[0;34m]\u001b[0m\u001b[0;34m(\u001b[0m\u001b[0;34m)\u001b[0m\u001b[0;34m\u001b[0m\u001b[0m\n",
      "\u001b[0;32m<ipython-input-8-a7d775e5a9b5>\u001b[0m in \u001b[0;36m__call__\u001b[0;34m(self, input)\u001b[0m\n\u001b[1;32m     48\u001b[0m         \u001b[0;31m# Block 4\u001b[0m\u001b[0;34m\u001b[0m\u001b[0;34m\u001b[0m\u001b[0m\n\u001b[1;32m     49\u001b[0m         \u001b[0;31m# Output Shape: 1 x 1 x 1\u001b[0m\u001b[0;34m\u001b[0m\u001b[0;34m\u001b[0m\u001b[0m\n\u001b[0;32m---> 50\u001b[0;31m         \u001b[0mhidden\u001b[0m \u001b[0;34m=\u001b[0m \u001b[0mself\u001b[0m\u001b[0;34m.\u001b[0m\u001b[0mlayers\u001b[0m\u001b[0;34m[\u001b[0m\u001b[0;36m5\u001b[0m\u001b[0;34m]\u001b[0m\u001b[0;34m(\u001b[0m\u001b[0mhidden\u001b[0m\u001b[0;34m)\u001b[0m\u001b[0;34m\u001b[0m\u001b[0m\n\u001b[0m\u001b[1;32m     51\u001b[0m         \u001b[0mhidden\u001b[0m \u001b[0;34m=\u001b[0m \u001b[0mhidden\u001b[0m\u001b[0;34m.\u001b[0m\u001b[0msigmoid\u001b[0m\u001b[0;34m(\u001b[0m\u001b[0;34m)\u001b[0m\u001b[0;34m\u001b[0m\u001b[0m\n\u001b[1;32m     52\u001b[0m \u001b[0;34m\u001b[0m\u001b[0m\n",
      "\u001b[0;32m~/Programming/node/node/layer.py\u001b[0m in \u001b[0;36m__call__\u001b[0;34m(self, input)\u001b[0m\n\u001b[1;32m    189\u001b[0m         \u001b[0mN\u001b[0m\u001b[0;34m,\u001b[0m \u001b[0mC\u001b[0m\u001b[0;34m,\u001b[0m \u001b[0mH\u001b[0m\u001b[0;34m,\u001b[0m \u001b[0mW\u001b[0m \u001b[0;34m=\u001b[0m \u001b[0minput\u001b[0m\u001b[0;34m.\u001b[0m\u001b[0mvalue\u001b[0m\u001b[0;34m.\u001b[0m\u001b[0mshape\u001b[0m\u001b[0;34m\u001b[0m\u001b[0m\n\u001b[1;32m    190\u001b[0m         \u001b[0moutput_size\u001b[0m \u001b[0;34m=\u001b[0m \u001b[0;36m1\u001b[0m \u001b[0;34m+\u001b[0m \u001b[0mint\u001b[0m\u001b[0;34m(\u001b[0m\u001b[0;34m(\u001b[0m\u001b[0mH\u001b[0m \u001b[0;34m+\u001b[0m \u001b[0;36m2\u001b[0m \u001b[0;34m*\u001b[0m \u001b[0mself\u001b[0m\u001b[0;34m.\u001b[0m\u001b[0mpad\u001b[0m \u001b[0;34m-\u001b[0m \u001b[0mself\u001b[0m\u001b[0;34m.\u001b[0m\u001b[0mfilter_size\u001b[0m\u001b[0;34m)\u001b[0m \u001b[0;34m/\u001b[0m \u001b[0mself\u001b[0m\u001b[0;34m.\u001b[0m\u001b[0mstride\u001b[0m\u001b[0;34m)\u001b[0m\u001b[0;34m\u001b[0m\u001b[0m\n\u001b[0;32m--> 191\u001b[0;31m         \u001b[0;32mreturn\u001b[0m \u001b[0mhidden\u001b[0m\u001b[0;34m.\u001b[0m\u001b[0mreshape\u001b[0m\u001b[0;34m(\u001b[0m\u001b[0mN\u001b[0m\u001b[0;34m,\u001b[0m \u001b[0moutput_size\u001b[0m\u001b[0;34m,\u001b[0m \u001b[0moutput_size\u001b[0m\u001b[0;34m,\u001b[0m \u001b[0;34m-\u001b[0m\u001b[0;36m1\u001b[0m\u001b[0;34m)\u001b[0m\u001b[0;34m.\u001b[0m\u001b[0mtranspose\u001b[0m\u001b[0;34m(\u001b[0m\u001b[0;36m0\u001b[0m\u001b[0;34m,\u001b[0m \u001b[0;36m3\u001b[0m\u001b[0;34m,\u001b[0m \u001b[0;36m1\u001b[0m\u001b[0;34m,\u001b[0m \u001b[0;36m2\u001b[0m\u001b[0;34m)\u001b[0m\u001b[0;34m\u001b[0m\u001b[0m\n\u001b[0m\u001b[1;32m    192\u001b[0m \u001b[0;34m\u001b[0m\u001b[0m\n\u001b[1;32m    193\u001b[0m     \u001b[0;32mdef\u001b[0m \u001b[0m__repr__\u001b[0m\u001b[0;34m(\u001b[0m\u001b[0mself\u001b[0m\u001b[0;34m)\u001b[0m\u001b[0;34m:\u001b[0m\u001b[0;34m\u001b[0m\u001b[0m\n",
      "\u001b[0;32m~/Programming/node/node/node.py\u001b[0m in \u001b[0;36mwrapper\u001b[0;34m(x, *args)\u001b[0m\n\u001b[1;32m     87\u001b[0m             \u001b[0mx\u001b[0m \u001b[0;34m=\u001b[0m \u001b[0m_core_scaler2node\u001b[0m\u001b[0;34m(\u001b[0m\u001b[0mx\u001b[0m\u001b[0;34m)\u001b[0m\u001b[0;34m\u001b[0m\u001b[0m\n\u001b[1;32m     88\u001b[0m         \u001b[0mop\u001b[0m \u001b[0;34m=\u001b[0m \u001b[0mfn\u001b[0m\u001b[0;34m(\u001b[0m\u001b[0mx\u001b[0m\u001b[0;34m,\u001b[0m \u001b[0;34m*\u001b[0m\u001b[0margs\u001b[0m\u001b[0;34m)\u001b[0m\u001b[0;34m\u001b[0m\u001b[0m\n\u001b[0;32m---> 89\u001b[0;31m         \u001b[0mnode\u001b[0m \u001b[0;34m=\u001b[0m \u001b[0mNode\u001b[0m\u001b[0;34m(\u001b[0m\u001b[0mop\u001b[0m\u001b[0;34m.\u001b[0m\u001b[0moutput\u001b[0m\u001b[0;34m)\u001b[0m\u001b[0;34m\u001b[0m\u001b[0m\n\u001b[0m\u001b[1;32m     90\u001b[0m         \u001b[0m_add_new_pair\u001b[0m\u001b[0;34m(\u001b[0m\u001b[0mop\u001b[0m\u001b[0;34m,\u001b[0m \u001b[0mnode\u001b[0m\u001b[0;34m)\u001b[0m\u001b[0;34m\u001b[0m\u001b[0m\n\u001b[1;32m     91\u001b[0m         \u001b[0;32mreturn\u001b[0m \u001b[0mnode\u001b[0m\u001b[0;34m\u001b[0m\u001b[0m\n",
      "\u001b[0;32m~/Programming/node/node/node.py\u001b[0m in \u001b[0;36m__init__\u001b[0;34m(self, value, no_grad)\u001b[0m\n\u001b[1;32m     99\u001b[0m             \u001b[0mno_grad\u001b[0m\u001b[0;34m:\u001b[0m \u001b[0mこの変数が勾配を持つかを表す\u001b[0m\u001b[0;34m\u001b[0m\u001b[0m\n\u001b[1;32m    100\u001b[0m         \"\"\"\n\u001b[0;32m--> 101\u001b[0;31m         \u001b[0mself\u001b[0m\u001b[0;34m.\u001b[0m\u001b[0mvalue\u001b[0m \u001b[0;34m=\u001b[0m \u001b[0mvalue\u001b[0m\u001b[0;34m.\u001b[0m\u001b[0mastype\u001b[0m\u001b[0;34m(\u001b[0m\u001b[0mnp\u001b[0m\u001b[0;34m.\u001b[0m\u001b[0mfloat32\u001b[0m\u001b[0;34m)\u001b[0m\u001b[0;34m\u001b[0m\u001b[0m\n\u001b[0m\u001b[1;32m    102\u001b[0m         \u001b[0mself\u001b[0m\u001b[0;34m.\u001b[0m\u001b[0mno_grad\u001b[0m \u001b[0;34m=\u001b[0m \u001b[0mno_grad\u001b[0m\u001b[0;34m\u001b[0m\u001b[0m\n\u001b[1;32m    103\u001b[0m \u001b[0;34m\u001b[0m\u001b[0m\n",
      "\u001b[0;31mKeyboardInterrupt\u001b[0m: "
     ]
    }
   ],
   "source": [
    "for i in range(epoch):\n",
    "    # metrics[0]: for generator\n",
    "    # metrics[1]: for discriminator\n",
    "    metrics = [0, 0]\n",
    "    \n",
    "    # Iterate over dataset\n",
    "    for true, _ in dataloader:\n",
    "        # Resize input \n",
    "        B, _, _, _ = true.value.shape\n",
    "        true.value = np.pad(true.value, [(0, 0), (0, 0), (2, 2), (2, 2)], \"constant\")\n",
    "        fake, gen, disc = train((true - 127.5) / 127.5)\n",
    "        metrics[0] += np.asnumpy(gen) / len(dataloader)\n",
    "        metrics[1] += np.asnumpy(disc) / len(dataloader)\n",
    "        \n",
    "    if i % 30 == 0:\n",
    "        visualize(np.asnumpy(fake.value))\n",
    "        print(\"(epoch {0:3}) gen: {1:.4f}, disc: {2:.4f}\".format(i, *metrics))"
   ]
  },
  {
   "cell_type": "code",
   "execution_count": null,
   "metadata": {
    "collapsed": true
   },
   "outputs": [],
   "source": []
  }
 ],
 "metadata": {
  "kernelspec": {
   "display_name": "Python 3",
   "language": "python",
   "name": "python3"
  },
  "language_info": {
   "codemirror_mode": {
    "name": "ipython",
    "version": 3
   },
   "file_extension": ".py",
   "mimetype": "text/x-python",
   "name": "python",
   "nbconvert_exporter": "python",
   "pygments_lexer": "ipython3",
   "version": "3.6.3"
  }
 },
 "nbformat": 4,
 "nbformat_minor": 2
}
