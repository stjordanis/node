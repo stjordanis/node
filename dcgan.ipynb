{
 "cells": [
  {
   "cell_type": "code",
   "execution_count": 1,
   "metadata": {},
   "outputs": [
    {
     "name": "stdout",
     "output_type": "stream",
     "text": [
      "GPU\n"
     ]
    }
   ],
   "source": [
    "import node "
   ]
  },
  {
   "cell_type": "code",
   "execution_count": 2,
   "metadata": {
    "collapsed": true
   },
   "outputs": [],
   "source": [
    "import cupy as np "
   ]
  },
  {
   "cell_type": "code",
   "execution_count": 3,
   "metadata": {
    "collapsed": true
   },
   "outputs": [],
   "source": [
    "# Image shape\n",
    "rows = 32\n",
    "cols = 32"
   ]
  },
  {
   "cell_type": "code",
   "execution_count": 4,
   "metadata": {
    "collapsed": true
   },
   "outputs": [],
   "source": [
    "base = 64\n",
    "num_in_ch = 32\n",
    "num_out_ch = 1"
   ]
  },
  {
   "cell_type": "code",
   "execution_count": 5,
   "metadata": {
    "collapsed": true
   },
   "outputs": [],
   "source": [
    "epoch = 301"
   ]
  },
  {
   "cell_type": "code",
   "execution_count": 6,
   "metadata": {
    "collapsed": true
   },
   "outputs": [],
   "source": [
    "def initialize(layers):\n",
    "    \"\"\"\n",
    "    ジェネレーターとディスクリミネーターの重みを\n",
    "    \n",
    "    畳み込み層: 平均0.0、分散0.02\n",
    "    バッチ正則化層: 平均1.0、分散0.02\n",
    "    \n",
    "    に初期化する\n",
    "    \"\"\"\n",
    "    for layer in layers:\n",
    "        if repr(layer) == \"Convolution2D\" or repr(layer) == \"TransposedConvolution2D\":\n",
    "            W = layer.parameters[\"W\"]\n",
    "            W.value = np.random.normal(0.0, 0.02, size=W.value.shape, dtype=np.float32)\n",
    "        elif repr(layer) == \"BatchNormalization\":\n",
    "            W = layer.parameters[\"W\"]\n",
    "            W.value = np.random.normal(1.0, 0.02, size=W.value.shape, dtype=np.float32)"
   ]
  },
  {
   "cell_type": "code",
   "execution_count": 7,
   "metadata": {
    "collapsed": true
   },
   "outputs": [],
   "source": [
    "class Generator(node.Network):\n",
    "    \n",
    "    def __init__(self, base=64, num_in_ch=100, num_out_ch=3):\n",
    "        \"\"\"\n",
    "        引数\n",
    "            base: チャンネル数の基数\n",
    "            num_in_ch: ノイズ(入力)のチャンネル数\n",
    "            num_out_ch: 出力のチャンネル数\n",
    "        \"\"\"\n",
    "        \n",
    "        super(Generator, self).__init__()\n",
    "        \n",
    "        self.layers = [\n",
    "            # Block 1\n",
    "            node.TransposedConvolution2D(num_in_ch, base * 4, 4, 1, 0),\n",
    "            node.BatchNormalization(base * 4),\n",
    "            \n",
    "            # Block 2\n",
    "            node.TransposedConvolution2D(base * 4, base * 2, 4, 2, 1),\n",
    "            node.BatchNormalization(base * 2),\n",
    "            \n",
    "            # Block 3\n",
    "            node.TransposedConvolution2D(base * 2, base, 4, 2, 1),\n",
    "            node.BatchNormalization(base),\n",
    "            \n",
    "            # Block 4\n",
    "            node.TransposedConvolution2D(base, num_out_ch, 4, 2, 1)\n",
    "        ]\n",
    "        \n",
    "    def __call__(self, input):\n",
    "        hidden = input\n",
    "        \n",
    "        # Block 1\n",
    "        # Output Shape: base * 4 x 4 x 4\n",
    "        hidden = self.layers[0](hidden)\n",
    "        hidden = self.layers[1](hidden)\n",
    "        hidden = hidden.relu()\n",
    "        \n",
    "        # Block 2\n",
    "        # Output Shape: base * 2 x 8 x 8\n",
    "        hidden = self.layers[2](hidden)\n",
    "        hidden = self.layers[3](hidden)\n",
    "        hidden = hidden.relu()\n",
    "        \n",
    "        # Block 3\n",
    "        # Output Shape: base x 16 x 16\n",
    "        hidden = self.layers[4](hidden)\n",
    "        hidden = self.layers[5](hidden)\n",
    "        hidden = hidden.relu()\n",
    "        \n",
    "        # Block 4\n",
    "        # Output Shape: output x 32 x 32\n",
    "        hidden = self.layers[6](hidden)\n",
    "        hidden = hidden.tanh()\n",
    "        \n",
    "        return hidden\n",
    "    \n",
    "generator = Generator(base, num_in_ch, num_out_ch)\n",
    "generator = generator\n",
    "initialize(generator.layers)"
   ]
  },
  {
   "cell_type": "code",
   "execution_count": 8,
   "metadata": {
    "collapsed": true
   },
   "outputs": [],
   "source": [
    "class Discriminator(node.Network):\n",
    "    \n",
    "    def __init__(self, base=64, num_in_ch=3):\n",
    "        \"\"\"\n",
    "        引数\n",
    "            base: チャンネル数の基数\n",
    "            num_in_ch: ノイズ(入力)のチャンネル数\n",
    "        \"\"\"\n",
    "        \n",
    "        super(Discriminator, self).__init__()\n",
    "        \n",
    "        self.layers = [\n",
    "            # Block 1\n",
    "            node.Convolution2D(num_in_ch, base, 4, 2, 1, use_bias=False),\n",
    "            \n",
    "            # Block 2\n",
    "            node.Convolution2D(base, base * 2, 4, 2, 1, use_bias=False),\n",
    "            node.BatchNormalization(base * 2),\n",
    "            \n",
    "            # Block 3\n",
    "            node.Convolution2D(base * 2, base * 4, 4, 2, 1, use_bias=False),\n",
    "            node.BatchNormalization(base * 4),\n",
    "            \n",
    "            # Block 4\n",
    "            node.Convolution2D(base * 4, 1, 4, 1, 0, use_bias=False)\n",
    "        ]\n",
    "        \n",
    "    def __call__(self, input):\n",
    "        hidden = input\n",
    "        \n",
    "        # Block 1 \n",
    "        # Output Shape: base x 16 x 16\n",
    "        hidden = self.layers[0](hidden)\n",
    "        hidden = hidden.leaky_relu(0.2)\n",
    "        \n",
    "        # Block 2\n",
    "        # Output Shape: base * 2 x 8 x 8\n",
    "        hidden = self.layers[1](hidden)\n",
    "        hidden = self.layers[2](hidden)\n",
    "        hidden = hidden.leaky_relu(0.2)\n",
    "        \n",
    "        # Block 3\n",
    "        # Output Shape: base * 4 x 4 x 4\n",
    "        hidden = self.layers[3](hidden)\n",
    "        hidden = self.layers[4](hidden)\n",
    "        hidden = hidden.leaky_relu(0.2)\n",
    "        \n",
    "        # Block 4 \n",
    "        # Output Shape: 1 x 1 x 1\n",
    "        hidden = self.layers[5](hidden)\n",
    "        hidden = hidden.sigmoid()\n",
    "        \n",
    "        return hidden.reshape(input.value.shape[0], -1)\n",
    "        \n",
    "discriminator = Discriminator(base, num_out_ch)\n",
    "discriminator = discriminator\n",
    "initialize(discriminator.layers)"
   ]
  },
  {
   "cell_type": "code",
   "execution_count": 9,
   "metadata": {
    "collapsed": true
   },
   "outputs": [],
   "source": [
    "# optimizers[0]: for generator\n",
    "# optimizers[1]: for discriminator\n",
    "optimizers = [\n",
    "    node.Adam(generator.get_parameters(), 0.0002, beta_1=0.5),\n",
    "    node.Adam(discriminator.get_parameters(), 0.0002, beta_1=0.5)\n",
    "]"
   ]
  },
  {
   "cell_type": "code",
   "execution_count": 10,
   "metadata": {
    "collapsed": true
   },
   "outputs": [],
   "source": [
    "# targets[0]: valid\n",
    "# targets[1]: invalid\n",
    "targets = [\n",
    "    node.Node(np.ones(shape=[100, 1], dtype=np.float32), off=True),\n",
    "    node.Node(np.zeros(shape=[100, 1], dtype=np.float32), off=True)\n",
    "]"
   ]
  },
  {
   "cell_type": "code",
   "execution_count": 11,
   "metadata": {
    "collapsed": true
   },
   "outputs": [],
   "source": [
    "def train(true):\n",
    "    \"\"\"\n",
    "    Update generator and discriminator parameters\n",
    "    \n",
    "    Arguments\n",
    "        true: true images from dataset\n",
    "    \"\"\"\n",
    "    # Get input info\n",
    "    B, _, _, _ = true.value.shape\n",
    "    \n",
    "    # losses[0]: for generator\n",
    "    # losses[1]: for discriminator (true images)\n",
    "    # losses[2]: for discriminator (fake images)\n",
    "    losses = [None, None, None]\n",
    "    \n",
    "    # Update generator parameters\n",
    "    optimizers[0].clear()\n",
    "    optimizers[1].clear()\n",
    "    noise = node.Node(np.random.uniform(0.0, 1.0, size=[B, num_in_ch, 1, 1], dtype=np.float32))\n",
    "    fake = generator(noise)\n",
    "    losses[0] = discriminator(fake).binary_cross_entropy(targets[0])\n",
    "    losses[0].backward()\n",
    "    optimizers[0].update()\n",
    "    \n",
    "    # Compute gradients w.r.t discriminator parameters with true images\n",
    "    optimizers[0].clear()\n",
    "    optimizers[1].clear()\n",
    "    losses[1] = discriminator(true).binary_cross_entropy(targets[0])\n",
    "    losses[1].backward()\n",
    "    optimizers[1].update()\n",
    "    \n",
    "    # Compute gradients w.r.t discriminator parameters with fake images\n",
    "    optimizers[0].clear()\n",
    "    optimizers[1].clear()\n",
    "    losses[2] = discriminator(fake).binary_cross_entropy(targets[1])\n",
    "    losses[2].backward()\n",
    "    optimizers[1].update()\n",
    "    \n",
    "    # Return generator and discriminator losses\n",
    "    return (fake.numpy(), losses[0].numpy(), losses[1].numpy() + losses[2].numpy())"
   ]
  },
  {
   "cell_type": "code",
   "execution_count": 12,
   "metadata": {
    "collapsed": true
   },
   "outputs": [],
   "source": [
    "# Load MNISt dataset\n",
    "dataset = node.MNIST(train=True)\n",
    "dataloader = node.DataLoader(dataset, 100)"
   ]
  },
  {
   "cell_type": "code",
   "execution_count": 13,
   "metadata": {
    "collapsed": true
   },
   "outputs": [],
   "source": [
    "import matplotlib.pyplot as plt\n",
    "%matplotlib inline\n",
    "\n",
    "def visualize(fake, rows=1, cols=5):\n",
    "    \"\"\"\n",
    "    Visualize fake images of generator\n",
    "    \n",
    "    Arguments\n",
    "        fake: fake images of generator\n",
    "        rows: indicates how many images are plotted along rows\n",
    "        cols: indicates how many images are plotted along columns\n",
    "    \"\"\"\n",
    "    _, axes = plt.subplots(rows, cols)\n",
    "    \n",
    "    # Get fake image info\n",
    "    _, _, H, W = fake.shape\n",
    "    \n",
    "    # Plot fake images one by one along columns\n",
    "    for i in range(cols):\n",
    "        axes[i].imshow(fake[i].reshape(H, W), cmap=\"gray\")\n",
    "        axes[i].set_xticks([])\n",
    "        axes[i].set_yticks([])\n",
    "            \n",
    "    plt.show()"
   ]
  },
  {
   "cell_type": "code",
   "execution_count": 14,
   "metadata": {},
   "outputs": [
    {
     "data": {
      "image/png": "[encoded data removed]",
      "text/plain": [
       "<matplotlib.figure.Figure at 0x7f8404c03b38>"
      ]
     },
     "metadata": {},
     "output_type": "display_data"
    },
    {
     "name": "stdout",
     "output_type": "stream",
     "text": [
      "(epoch   0) gen: 4.3155, disc: 0.2378\n"
     ]
    },
    {
     "data": {
      "image/png": "[encoded data removed]",
      "text/plain": [
       "<matplotlib.figure.Figure at 0x7f83f0f305c0>"
      ]
     },
     "metadata": {},
     "output_type": "display_data"
    },
    {
     "name": "stdout",
     "output_type": "stream",
     "text": [
      "(epoch  30) gen: 5.0222, disc: 0.1415\n"
     ]
    },
    {
     "data": {
      "image/png": "[encoded data removed]",
      "text/plain": [
       "<matplotlib.figure.Figure at 0x7f83f0f305c0>"
      ]
     },
     "metadata": {},
     "output_type": "display_data"
    },
    {
     "name": "stdout",
     "output_type": "stream",
     "text": [
      "(epoch  60) gen: 6.1782, disc: 0.0618\n"
     ]
    },
    {
     "data": {
      "image/png": "[encoded data removed]",
      "text/plain": [
       "<matplotlib.figure.Figure at 0x7f84448a25c0>"
      ]
     },
     "metadata": {},
     "output_type": "display_data"
    },
    {
     "name": "stdout",
     "output_type": "stream",
     "text": [
      "(epoch  90) gen: 6.9027, disc: 0.0352\n"
     ]
    },
    {
     "data": {
      "image/png": "[encoded data removed]",
      "text/plain": [
       "<matplotlib.figure.Figure at 0x7f84448a25c0>"
      ]
     },
     "metadata": {},
     "output_type": "display_data"
    },
    {
     "name": "stdout",
     "output_type": "stream",
     "text": [
      "(epoch 120) gen: 7.3086, disc: 0.0525\n"
     ]
    },
    {
     "data": {
      "image/png": "[encoded data removed]",
      "text/plain": [
       "<matplotlib.figure.Figure at 0x7f844642e8d0>"
      ]
     },
     "metadata": {},
     "output_type": "display_data"
    },
    {
     "name": "stdout",
     "output_type": "stream",
     "text": [
      "(epoch 150) gen: 7.3730, disc: 0.0414\n"
     ]
    },
    {
     "data": {
      "image/png": "[encoded data removed]",
      "text/plain": [
       "<matplotlib.figure.Figure at 0x7f8447c12240>"
      ]
     },
     "metadata": {},
     "output_type": "display_data"
    },
    {
     "name": "stdout",
     "output_type": "stream",
     "text": [
      "(epoch 180) gen: 6.9127, disc: 0.0290\n"
     ]
    },
    {
     "data": {
      "image/png": "[encoded data removed]",
      "text/plain": [
       "<matplotlib.figure.Figure at 0x7f8446ec4b70>"
      ]
     },
     "metadata": {},
     "output_type": "display_data"
    },
    {
     "name": "stdout",
     "output_type": "stream",
     "text": [
      "(epoch 210) gen: 7.5287, disc: 0.0447\n"
     ]
    },
    {
     "data": {
      "image/png": "[encoded data removed]",
      "text/plain": [
       "<matplotlib.figure.Figure at 0x7f83f0b6f080>"
      ]
     },
     "metadata": {},
     "output_type": "display_data"
    },
    {
     "name": "stdout",
     "output_type": "stream",
     "text": [
      "(epoch 240) gen: 8.4664, disc: 0.0168\n"
     ]
    },
    {
     "data": {
      "image/png": "[encoded data removed]",
      "text/plain": [
       "<matplotlib.figure.Figure at 0x7f844c5cefd0>"
      ]
     },
     "metadata": {},
     "output_type": "display_data"
    },
    {
     "name": "stdout",
     "output_type": "stream",
     "text": [
      "(epoch 270) gen: 7.9460, disc: 0.0253\n"
     ]
    },
    {
     "data": {
      "image/png": "[encoded data removed]",
      "text/plain": [
       "<matplotlib.figure.Figure at 0x7f843082dbe0>"
      ]
     },
     "metadata": {},
     "output_type": "display_data"
    },
    {
     "name": "stdout",
     "output_type": "stream",
     "text": [
      "(epoch 300) gen: 8.5715, disc: 0.0406\n"
     ]
    }
   ],
   "source": [
    "for i in range(epoch):\n",
    "    # metrics[0]: for generator\n",
    "    # metrics[1]: for discriminator\n",
    "    metrics = [0, 0]\n",
    "    \n",
    "    # Iterate over dataset\n",
    "    for true, _ in dataloader:\n",
    "        # Resize input \n",
    "        B, _, _, _ = true.value.shape\n",
    "        true.value = np.pad(true.value, [(0, 0), (0, 0), (2, 2), (2, 2)], \"constant\")\n",
    "        fake, gen, disc = train((true - 127.5) / 127.5)\n",
    "        metrics[0] += gen / len(dataloader)\n",
    "        metrics[1] += disc / len(dataloader)\n",
    "        \n",
    "    if i % 30 == 0:\n",
    "        visualize(fake)\n",
    "        print(\"(epoch {0:3}) gen: {1:.4f}, disc: {2:.4f}\".format(i, *metrics))"
   ]
  },
  {
   "cell_type": "code",
   "execution_count": null,
   "metadata": {
    "collapsed": true
   },
   "outputs": [],
   "source": []
  }
 ],
 "metadata": {
  "kernelspec": {
   "display_name": "Python 3",
   "language": "python",
   "name": "python3"
  },
  "language_info": {
   "codemirror_mode": {
    "name": "ipython",
    "version": 3
   },
   "file_extension": ".py",
   "mimetype": "text/x-python",
   "name": "python",
   "nbconvert_exporter": "python",
   "pygments_lexer": "ipython3",
   "version": "3.6.3"
  }
 },
 "nbformat": 4,
 "nbformat_minor": 2
}
