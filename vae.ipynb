{
 "cells": [
  {
   "cell_type": "markdown",
   "metadata": {},
   "source": [
    "# VAE Implementation "
   ]
  },
  {
   "cell_type": "code",
   "execution_count": 1,
   "metadata": {},
   "outputs": [
    {
     "name": "stdout",
     "output_type": "stream",
     "text": [
      "GPU Mode\n"
     ]
    }
   ],
   "source": [
    "import node\n",
    "import cupy\n",
    "import numpy as np"
   ]
  },
  {
   "cell_type": "code",
   "execution_count": 2,
   "metadata": {
    "collapsed": true
   },
   "outputs": [],
   "source": [
    "import matplotlib.pyplot as plt\n",
    "%matplotlib inline"
   ]
  },
  {
   "cell_type": "code",
   "execution_count": 3,
   "metadata": {
    "collapsed": true
   },
   "outputs": [],
   "source": [
    "num_in_units = 28 * 28 # input size\n",
    "num_h_units = 400\n",
    "num_out_units = 20 # hidden size"
   ]
  },
  {
   "cell_type": "code",
   "execution_count": 4,
   "metadata": {
    "collapsed": true
   },
   "outputs": [],
   "source": [
    "# Initialize weight parameters with small variance\n",
    "def initialize(layers):\n",
    "    for layer in layers:\n",
    "        if repr(layer) == \"Linear\":\n",
    "            W = layer.parameters[\"W\"]\n",
    "            W.value = cupy.random.normal(0.0, 0.2, size=W.value.shape, dtype=np.float32)"
   ]
  },
  {
   "cell_type": "code",
   "execution_count": 5,
   "metadata": {},
   "outputs": [],
   "source": [
    "class Encoder(node.Network):\n",
    "    \n",
    "    def __init__(self, \n",
    "                 num_in_units, \n",
    "                 num_h_units, \n",
    "                 num_out_units=2): \n",
    "        self.layers = [\n",
    "            node.Linear(num_in_units, num_h_units),\n",
    "            node.Linear(num_h_units, num_out_units), # Mean Vec\n",
    "            node.Linear(num_h_units, num_out_units)  # Cov\n",
    "        ]\n",
    "        \n",
    "    def __call__(self, input):\n",
    "        hidden = input\n",
    "        hidden = self.layers[0](hidden).relu()\n",
    "        return self.layers[1](hidden), self.layers[2](hidden)\n",
    "\n",
    "encoder = Encoder(num_in_units, num_h_units, num_out_units)\n",
    "initialize(encoder.layers)"
   ]
  },
  {
   "cell_type": "code",
   "execution_count": 6,
   "metadata": {},
   "outputs": [],
   "source": [
    "class Decoder(node.Network):\n",
    "    \n",
    "    def __init__(self, \n",
    "                 num_in_units,\n",
    "                 num_h_units, \n",
    "                 num_out_units):\n",
    "        self.layers = [\n",
    "            node.Linear(num_in_units, num_h_units),\n",
    "            node.Linear(num_h_units, num_out_units)\n",
    "        ]\n",
    "        \n",
    "    def __call__(self, input):\n",
    "        hidden = input\n",
    "        hidden = self.layers[0](hidden).relu()\n",
    "        hidden = self.layers[1](hidden).sigmoid()\n",
    "        return hidden\n",
    "    \n",
    "decoder = Decoder(num_out_units, num_h_units, num_in_units)\n",
    "initialize(decoder.layers)"
   ]
  },
  {
   "cell_type": "code",
   "execution_count": 7,
   "metadata": {},
   "outputs": [],
   "source": [
    "parameters = encoder.get_parameters() + decoder.get_parameters()\n",
    "optimizer = node.Adam(parameters, eta=0.001)"
   ]
  },
  {
   "cell_type": "code",
   "execution_count": 8,
   "metadata": {
    "collapsed": true
   },
   "outputs": [],
   "source": [
    "from node.node import _two_oprand_op\n",
    "\n",
    "class KLDivergence(node.Op):\n",
    "    # Compute KL divergence between two gaussians which have given statistics and zero vector and identity matrix\n",
    "    \n",
    "    def __init__(self, mean, ln_var, *args):\n",
    "        super(KLDivergence, self).__init__()\n",
    "        self.register(mean, ln_var)\n",
    "        self.output = self.forward()\n",
    "    \n",
    "    def forward(self):\n",
    "        mean, ln_var = self.cache\n",
    "        return cupy.sum((mean.value ** 2 + cupy.exp(ln_var.value) - ln_var.value - 1) * 0.5)\n",
    "    \n",
    "    def backward(self, error):\n",
    "        mean, ln_var = self.cache\n",
    "        mean.accumulate(mean.value)\n",
    "        ln_var.accumulate(0.5 * cupy.exp(ln_var.value) - 0.5)\n",
    "\n",
    "@_two_oprand_op\n",
    "def kl_divergence(self, x):\n",
    "    return KLDivergence(self, x)\n",
    "\n",
    "# Register the above function as a method of Node class   \n",
    "setattr(node.Node, \"kl_divergence\", kl_divergence)"
   ]
  },
  {
   "cell_type": "code",
   "execution_count": 9,
   "metadata": {
    "collapsed": true
   },
   "outputs": [],
   "source": [
    "def reparameterize(mu, ln_var):\n",
    "    # Convert ln_var to std\n",
    "    noise = node.Node(cupy.random.standard_normal(mu.value.shape).astype(np.float32))\n",
    "    return (ln_var * 0.5).exp() * noise + mu"
   ]
  },
  {
   "cell_type": "code",
   "execution_count": 10,
   "metadata": {
    "collapsed": true
   },
   "outputs": [],
   "source": [
    "def train(input): \n",
    "    optimizer.clear()\n",
    "    \n",
    "    # Construct computation graph\n",
    "    mu, ln_var = encoder(input)\n",
    "    sample = reparameterize(mu, ln_var)\n",
    "    output = decoder(sample)\n",
    "    loss = output.binary_cross_entropy(input, \"sum\") + mu.kl_divergence(ln_var)\n",
    "    \n",
    "    # Update parameters\n",
    "    loss.backward()\n",
    "    optimizer.update()\n",
    "    \n",
    "    return loss.numpy()"
   ]
  },
  {
   "cell_type": "code",
   "execution_count": 11,
   "metadata": {
    "collapsed": true
   },
   "outputs": [],
   "source": [
    "dataset = node.MNIST(train=True, flatten=True)\n",
    "dataloader = node.DataLoader(dataset, 128)"
   ]
  },
  {
   "cell_type": "code",
   "execution_count": 12,
   "metadata": {
    "collapsed": true
   },
   "outputs": [],
   "source": [
    "epoch = 300"
   ]
  },
  {
   "cell_type": "code",
   "execution_count": 13,
   "metadata": {
    "scrolled": true
   },
   "outputs": [
    {
     "name": "stdout",
     "output_type": "stream",
     "text": [
      "epoch  30, loss 172.26\n",
      "epoch  60, loss 167.20\n",
      "epoch  90, loss 165.24\n",
      "epoch 120, loss 164.44\n",
      "epoch 150, loss 163.57\n",
      "epoch 180, loss 162.91\n",
      "epoch 210, loss 162.81\n",
      "epoch 240, loss 162.46\n",
      "epoch 270, loss 162.09\n",
      "epoch 300, loss 161.98\n"
     ]
    }
   ],
   "source": [
    "for i in range(1, epoch+1):    \n",
    "    \n",
    "    loss = 0\n",
    "    for input, _ in dataloader:\n",
    "        loss += train(input / 255.0)\n",
    "    \n",
    "    if i % 30 == 0:\n",
    "        print(\"epoch {0:3}, loss {1:.2f}\".format(i, loss / len(dataset)))"
   ]
  },
  {
   "cell_type": "code",
   "execution_count": 14,
   "metadata": {},
   "outputs": [
    {
     "data": {
      "image/png": "[encoded data removed]",
      "text/plain": [
       "<matplotlib.figure.Figure at 0x7f6a91454390>"
      ]
     },
     "metadata": {},
     "output_type": "display_data"
    }
   ],
   "source": [
    "# Use test dataset\n",
    "dataloader = node.DataLoader(node.MNIST(train=False, flatten=True), 12)\n",
    "input, _ = next(dataloader)\n",
    "\n",
    "# Reconstruct\n",
    "with node.zero_grad():\n",
    "    output = decoder(reparameterize(*encoder(input / 255)))\n",
    "output = output.numpy()\n",
    "\n",
    "_, axis = plt.subplots(2, 12)\n",
    "\n",
    "# Real images\n",
    "for i in range(12):\n",
    "    axis[0][i].imshow(input.numpy()[i].reshape(28, 28), cmap=\"gray\")\n",
    "    axis[0][i].set_xticks([])\n",
    "    axis[0][i].set_yticks([])\n",
    "    \n",
    "# Reconstruction images\n",
    "for i in range(12):\n",
    "    axis[1][i].imshow(output[i].reshape(28, 28), cmap=\"gray\")\n",
    "    axis[1][i].set_xticks([])\n",
    "    axis[1][i].set_yticks([])\n",
    "    \n",
    "plt.show()"
   ]
  },
  {
   "cell_type": "code",
   "execution_count": 29,
   "metadata": {},
   "outputs": [
    {
     "data": {
      "image/png": "[encoded data removed]",
      "text/plain": [
       "<matplotlib.figure.Figure at 0x7f6a88033cf8>"
      ]
     },
     "metadata": {},
     "output_type": "display_data"
    }
   ],
   "source": [
    "# Sample\n",
    "sample = node.Node(cupy.random.randn(12, 20).astype(np.float32) * 0.7)\n",
    "with node.zero_grad():\n",
    "    output = decoder(sample)\n",
    "output = output.numpy()\n",
    "\n",
    "_, axis = plt.subplots(1, 12)\n",
    "\n",
    "for i in range(12):\n",
    "    axis[i].imshow(output[i].reshape(28, 28), cmap=\"gray\")\n",
    "    axis[i].set_xticks([])\n",
    "    axis[i].set_yticks([])\n",
    "\n",
    "plt.show()"
   ]
  },
  {
   "cell_type": "code",
   "execution_count": null,
   "metadata": {
    "collapsed": true
   },
   "outputs": [],
   "source": []
  }
 ],
 "metadata": {
  "kernelspec": {
   "display_name": "Python 3",
   "language": "python",
   "name": "python3"
  },
  "language_info": {
   "codemirror_mode": {
    "name": "ipython",
    "version": 3
   },
   "file_extension": ".py",
   "mimetype": "text/x-python",
   "name": "python",
   "nbconvert_exporter": "python",
   "pygments_lexer": "ipython3",
   "version": "3.6.3"
  }
 },
 "nbformat": 4,
 "nbformat_minor": 1
}
