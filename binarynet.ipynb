{
 "cells": [
  {
   "cell_type": "code",
   "execution_count": 1,
   "metadata": {
    "collapsed": true
   },
   "outputs": [],
   "source": [
    "import node\n",
    "import numpy as np"
   ]
  },
  {
   "cell_type": "code",
   "execution_count": 2,
   "metadata": {
    "collapsed": true
   },
   "outputs": [],
   "source": [
    "class Activate(node.Op):\n",
    "\n",
    "    def __init__(self, x, *args):\n",
    "        super().__init__(x)\n",
    "        \n",
    "        # フォワード時はサイン関数と同じ\n",
    "        self.output = np.sign(x.value)\n",
    "\n",
    "    def backward(self, err_sig):\n",
    "        # バックワード時はハードシグモイド関数と同じ\n",
    "        return self._srcs[0].acc_grad(err_sig * 1 * (np.abs(self.output) <= 1))"
   ]
  },
  {
   "cell_type": "code",
   "execution_count": 3,
   "metadata": {
    "collapsed": true
   },
   "outputs": [],
   "source": [
    "from node.node import _single_oprand_op\n",
    "\n",
    "@_single_oprand_op\n",
    "def activate(self):\n",
    "    return Activate(self)\n",
    "\n",
    "setattr(node.Node, \"activate\", activate)"
   ]
  },
  {
   "cell_type": "code",
   "execution_count": 4,
   "metadata": {
    "collapsed": true
   },
   "outputs": [],
   "source": [
    "class BinaryLinear(node.Layer):\n",
    "    \n",
    "    def __init__(self, num_in_units, num_out_units):\n",
    "        super(BinaryLinear, self).__init__()\n",
    "        \n",
    "        # ウェイトだけ使う\n",
    "        self.parameters = {\"W\": node.Node(np.random.randn(num_in_units, num_out_units))}\n",
    "        \n",
    "    def __call__(self, input):\n",
    "        return input.dot(self.parameters[\"W\"].activate())"
   ]
  },
  {
   "cell_type": "code",
   "execution_count": 5,
   "metadata": {
    "collapsed": true
   },
   "outputs": [],
   "source": [
    "class BinaryNet(node.Network):\n",
    "    \n",
    "    def __init__(self, num_in_units, num_h_units, num_out_units):\n",
    "        self.layers = [BinaryLinear(num_in_units, num_h_units),\n",
    "                       node.BatchNorm(num_h_units),\n",
    "                       BinaryLinear(num_h_units, num_h_units),\n",
    "                       node.BatchNorm(num_h_units),\n",
    "                       BinaryLinear(num_h_units, num_out_units),\n",
    "                       node.BatchNorm(num_out_units)]\n",
    "        \n",
    "    def __call__(self, input):\n",
    "        hidden = input\n",
    "        hidden = self.layers[1](self.layers[0](hidden)).activate()\n",
    "        hidden = self.layers[3](self.layers[2](hidden)).activate()\n",
    "        hidden = self.layers[5](self.layers[4](hidden))\n",
    "        return hidden\n",
    "    \n",
    "classifier = BinaryNet(784, 1024, 10)\n",
    "optimizer = node.Adam(classifier.get_parameters(), 0.001)"
   ]
  },
  {
   "cell_type": "code",
   "execution_count": 6,
   "metadata": {
    "collapsed": true
   },
   "outputs": [],
   "source": [
    "train_dataset = node.MNIST(training=True)\n",
    "train_dataloader = node.DataLoader(train_dataset, batch_size=100)"
   ]
  },
  {
   "cell_type": "code",
   "execution_count": 7,
   "metadata": {
    "collapsed": true
   },
   "outputs": [],
   "source": [
    "test_dataset = node.MNIST(training=False)\n",
    "test_dataloader = node.DataLoader(test_dataset, batch_size=100)"
   ]
  },
  {
   "cell_type": "code",
   "execution_count": 8,
   "metadata": {
    "collapsed": true
   },
   "outputs": [],
   "source": [
    "def train(input, target):\n",
    "    optimizer.zero_grad()\n",
    "    \n",
    "    #　パラメーターを更新する\n",
    "    output = classifier(input/255).softmax_with_cross_entropy(target)\n",
    "    output.backward()\n",
    "    optimizer()\n",
    "    \n",
    "    return output.value"
   ]
  },
  {
   "cell_type": "code",
   "execution_count": 9,
   "metadata": {
    "collapsed": true
   },
   "outputs": [],
   "source": [
    "def measure(prediction, target):\n",
    "    # 出力とラベルを受け取り、何個正解したかの数を返す。\n",
    "    \n",
    "    prediction = np.argmax(prediction.value, axis=1)\n",
    "    target = np.argmax(target.value, axis=1)\n",
    "    \n",
    "    return np.sum(np.where(prediction == target, 1, 0))"
   ]
  },
  {
   "cell_type": "code",
   "execution_count": 10,
   "metadata": {
    "collapsed": true
   },
   "outputs": [],
   "source": [
    "def evaluate(input, target):\n",
    "    with node.zero_grad():\n",
    "        prediction = classifier(input/255)\n",
    "        output = prediction.softmax_with_cross_entropy(target)\n",
    "        \n",
    "    loss = output.value\n",
    "    accuracy = measure(prediction, target)\n",
    "    \n",
    "    return loss, accuracy"
   ]
  },
  {
   "cell_type": "code",
   "execution_count": 11,
   "metadata": {},
   "outputs": [
    {
     "name": "stdout",
     "output_type": "stream",
     "text": [
      "epoch   0, training loss 2.3199, test loss 1.2416, accuracy 0.78\n",
      "epoch 100, training loss 0.4515, test loss 0.4103, accuracy 0.93\n",
      "epoch 200, training loss 0.3986, test loss 0.3862, accuracy 0.93\n",
      "epoch 300, training loss 0.3624, test loss 0.3786, accuracy 0.94\n",
      "epoch 400, training loss 0.3470, test loss 0.3777, accuracy 0.93\n",
      "epoch 500, training loss 0.3455, test loss 0.3810, accuracy 0.93\n"
     ]
    }
   ],
   "source": [
    "for epoch in range(501):\n",
    "    \n",
    "    # Train Loss, Test Loss, Accuracy\n",
    "    metrics = [0, 0, 0]\n",
    "    \n",
    "    classifier.training()\n",
    "    for input, target in train_dataloader:\n",
    "        metrics[0] += train(input, target)\n",
    "\n",
    "    classifier.evaluation()\n",
    "    for input, target in test_dataloader:\n",
    "        loss, accuracy = evaluate(input, target)\n",
    "        metrics[1] += loss \n",
    "        metrics[2] += accuracy\n",
    "        \n",
    "    metrics[0] /= len(train_dataloader)\n",
    "    metrics[1] /= len(test_dataloader)\n",
    "    metrics[2] /= 100 * len(test_dataloader)\n",
    "    \n",
    "    if epoch % 100 == 0:\n",
    "        print(\"epoch {0:3}, training loss {1:.4f}, test loss {2:.4f}, accuracy {3:.2f}\".format(epoch, *metrics))"
   ]
  },
  {
   "cell_type": "code",
   "execution_count": null,
   "metadata": {
    "collapsed": true
   },
   "outputs": [],
   "source": []
  }
 ],
 "metadata": {
  "kernelspec": {
   "display_name": "Python 3",
   "language": "python",
   "name": "python3"
  },
  "language_info": {
   "codemirror_mode": {
    "name": "ipython",
    "version": 3
   },
   "file_extension": ".py",
   "mimetype": "text/x-python",
   "name": "python",
   "nbconvert_exporter": "python",
   "pygments_lexer": "ipython3",
   "version": "3.6.3"
  }
 },
 "nbformat": 4,
 "nbformat_minor": 2
}
